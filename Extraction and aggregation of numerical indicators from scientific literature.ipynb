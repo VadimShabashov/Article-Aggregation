{
 "cells": [
  {
   "cell_type": "code",
   "execution_count": 1,
   "outputs": [],
   "source": [
    "import os\n",
    "import pandas as pd\n",
    "import urllib.request\n",
    "from grobid_quantities.quantities import QuantitiesClient\n",
    "from matplotlib import pyplot as plt\n",
    "import numpy as np\n",
    "from tqdm import tqdm"
   ],
   "metadata": {
    "collapsed": false,
    "pycharm": {
     "name": "#%%\n"
    }
   }
  },
  {
   "cell_type": "markdown",
   "source": [
    "Download data:"
   ],
   "metadata": {
    "collapsed": false
   }
  },
  {
   "cell_type": "code",
   "execution_count": 3,
   "metadata": {
    "collapsed": true
   },
   "outputs": [],
   "source": [
    "PROJECT_ROOT_DIR = \".\"\n",
    "DATA_NAME = \"2022_JBR_Spring_Internship_Test_Data.csv\"\n",
    "DATA_PATH = os.path.join(PROJECT_ROOT_DIR, \"data\")\n",
    "DATA_FULL_PATH = os.path.join(DATA_PATH, DATA_NAME)\n",
    "DOWNLOAD_URL = \"https://drive.google.com/uc?export=download&id=1d3NJbq7EInZYl8Q5Pb7YfAwQUVxZ9FdE\"\n",
    "\n",
    "\n",
    "def fetch_data(url=DOWNLOAD_URL, path=DATA_PATH, data_full_path=DATA_FULL_PATH):\n",
    "    os.makedirs(path, exist_ok=True)\n",
    "    urllib.request.urlretrieve(url, data_full_path)\n",
    "\n",
    "\n",
    "def load_data(data_path=DATA_FULL_PATH):\n",
    "    return pd.read_csv(data_path)"
   ]
  },
  {
   "cell_type": "code",
   "execution_count": 4,
   "outputs": [
    {
     "data": {
      "text/plain": "       PMID                                           abstract\n0  35103873  It has been a challenge for solving the motor ...\n1  35095410  The development of reliable assistive devices ...\n2  35093844  Identifying motor and mental imagery electroen...\n3  35090904  Brain computer interface (BCI) utilizes brain ...\n4  35088740  Brain-computer interface (BCI)-controlled func...",
      "text/html": "<div>\n<style scoped>\n    .dataframe tbody tr th:only-of-type {\n        vertical-align: middle;\n    }\n\n    .dataframe tbody tr th {\n        vertical-align: top;\n    }\n\n    .dataframe thead th {\n        text-align: right;\n    }\n</style>\n<table border=\"1\" class=\"dataframe\">\n  <thead>\n    <tr style=\"text-align: right;\">\n      <th></th>\n      <th>PMID</th>\n      <th>abstract</th>\n    </tr>\n  </thead>\n  <tbody>\n    <tr>\n      <th>0</th>\n      <td>35103873</td>\n      <td>It has been a challenge for solving the motor ...</td>\n    </tr>\n    <tr>\n      <th>1</th>\n      <td>35095410</td>\n      <td>The development of reliable assistive devices ...</td>\n    </tr>\n    <tr>\n      <th>2</th>\n      <td>35093844</td>\n      <td>Identifying motor and mental imagery electroen...</td>\n    </tr>\n    <tr>\n      <th>3</th>\n      <td>35090904</td>\n      <td>Brain computer interface (BCI) utilizes brain ...</td>\n    </tr>\n    <tr>\n      <th>4</th>\n      <td>35088740</td>\n      <td>Brain-computer interface (BCI)-controlled func...</td>\n    </tr>\n  </tbody>\n</table>\n</div>"
     },
     "execution_count": 4,
     "metadata": {},
     "output_type": "execute_result"
    }
   ],
   "source": [
    "fetch_data()\n",
    "data = load_data()\n",
    "data.head()"
   ],
   "metadata": {
    "collapsed": false,
    "pycharm": {
     "name": "#%%\n"
    }
   }
  },
  {
   "cell_type": "markdown",
   "source": [
    "Create a client for communication with grobid_quantities:"
   ],
   "metadata": {
    "collapsed": false
   }
  },
  {
   "cell_type": "code",
   "execution_count": 7,
   "outputs": [],
   "source": [
    "SERVER_URL = \"http://localhost:8060/service/\"\n",
    "\n",
    "client = QuantitiesClient(apiBase=SERVER_URL)"
   ],
   "metadata": {
    "collapsed": false,
    "pycharm": {
     "name": "#%%\n"
    }
   }
  },
  {
   "cell_type": "markdown",
   "source": [
    "We iterate over all the rows of the dataframe and parse the abstract:"
   ],
   "metadata": {
    "collapsed": false
   }
  },
  {
   "cell_type": "code",
   "execution_count": 70,
   "outputs": [
    {
     "name": "stderr",
     "output_type": "stream",
     "text": [
      "1429it [01:56, 12.24it/s]\n"
     ]
    }
   ],
   "source": [
    "values = []\n",
    "accuracy = []\n",
    "\n",
    "for index, row in tqdm(data.iterrows()):\n",
    "    values_list = []\n",
    "    accuracy_list = []\n",
    "\n",
    "    try:\n",
    "        result = client.process_text(row['abstract'].encode(\"ascii\", \"ignore\"))\n",
    "        if result[0] == 200:\n",
    "            if 'measurements' in result[1]:\n",
    "                for value_json in result[1]['measurements']:\n",
    "                    if (value_json['type'] == 'value') and ('numeric' in value_json['quantity']['parsedValue']):\n",
    "                        value = value_json['quantity']['parsedValue']['numeric']\n",
    "                        values_list.append(value)\n",
    "\n",
    "                        if ('quantified' in value_json) and (value_json['quantified']['normalizedName'] == 'accuracy'):\n",
    "                            accuracy_list.append(value)\n",
    "    except AttributeError:\n",
    "        pass\n",
    "\n",
    "    values.append(values_list)\n",
    "    accuracy.extend(accuracy_list)"
   ],
   "metadata": {
    "collapsed": false,
    "pycharm": {
     "name": "#%%\n"
    }
   }
  },
  {
   "cell_type": "markdown",
   "source": [
    "List 'values' contains values for each of the paragraph and can be used further for our needs.\n",
    "List 'accuracy' contains all the values, which grobid identifies as accuracies."
   ],
   "metadata": {
    "collapsed": false
   }
  },
  {
   "cell_type": "code",
   "execution_count": 91,
   "outputs": [],
   "source": [
    "accuracy_np = np.array(accuracy)"
   ],
   "metadata": {
    "collapsed": false,
    "pycharm": {
     "name": "#%%\n"
    }
   }
  },
  {
   "cell_type": "markdown",
   "source": [
    "The histogram of values >= 1 in log scale:"
   ],
   "metadata": {
    "collapsed": false
   }
  },
  {
   "cell_type": "code",
   "execution_count": 92,
   "outputs": [
    {
     "data": {
      "text/plain": "<Figure size 432x288 with 1 Axes>",
      "image/png": "[encoded data removed]"
     },
     "metadata": {
      "needs_background": "light"
     },
     "output_type": "display_data"
    }
   ],
   "source": [
    "plt.hist(accuracy_np, bins = 10 ** np.linspace(np.log10(1), np.log10(np.max(accuracy_np)), 50), alpha=0.5)\n",
    "plt.gca().set_xscale(\"log\")\n",
    "plt.title('Histogram')\n",
    "plt.xlabel('accuracy')\n",
    "plt.ylabel('count')\n",
    "plt.show()"
   ],
   "metadata": {
    "collapsed": false,
    "pycharm": {
     "name": "#%%\n"
    }
   }
  },
  {
   "cell_type": "markdown",
   "source": [
    "The histogram with not too low or too high values:"
   ],
   "metadata": {
    "collapsed": false,
    "pycharm": {
     "name": "#%% md\n"
    }
   }
  },
  {
   "cell_type": "code",
   "execution_count": 94,
   "outputs": [
    {
     "data": {
      "text/plain": "<Figure size 432x288 with 1 Axes>",
      "image/png": "[encoded data removed]"
     },
     "metadata": {
      "needs_background": "light"
     },
     "output_type": "display_data"
    }
   ],
   "source": [
    "low_border = np.percentile(accuracy_np, 5)\n",
    "high_border = np.percentile(accuracy_np, 95)\n",
    "\n",
    "plt.hist(accuracy_np[(accuracy_np >= low_border) & (accuracy_np <= high_border)], bins = 50, alpha=0.5)\n",
    "plt.title('Histogram')\n",
    "plt.xlabel('accuracy')\n",
    "plt.ylabel('count')\n",
    "plt.show()"
   ],
   "metadata": {
    "collapsed": false,
    "pycharm": {
     "name": "#%%\n"
    }
   }
  }
 ],
 "metadata": {
  "kernelspec": {
   "display_name": "Python 3",
   "language": "python",
   "name": "python3"
  },
  "language_info": {
   "codemirror_mode": {
    "name": "ipython",
    "version": 2
   },
   "file_extension": ".py",
   "mimetype": "text/x-python",
   "name": "python",
   "nbconvert_exporter": "python",
   "pygments_lexer": "ipython2",
   "version": "2.7.6"
  }
 },
 "nbformat": 4,
 "nbformat_minor": 0
}